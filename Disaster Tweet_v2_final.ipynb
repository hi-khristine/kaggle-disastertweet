{
 "cells": [
  {
   "cell_type": "markdown",
   "metadata": {},
   "source": [
    "Load packages"
   ]
  },
  {
   "cell_type": "code",
   "execution_count": 195,
   "metadata": {},
   "outputs": [],
   "source": [
    "import pandas as pd\n",
    "\n",
    "import numpy as np\n",
    "import matplotlib.pyplot as plt\n",
    "\n",
    "from sklearn.metrics import classification_report\n",
    "\n",
    "from sklearn.model_selection import cross_val_score\n",
    "\n",
    "\n",
    "from sklearn.metrics import accuracy_score\n",
    "from sklearn.metrics import precision_score, \\\n",
    "    recall_score, confusion_matrix, classification_report, \\\n",
    "    accuracy_score, f1_score\n",
    "import sklearn.model_selection as cv\n",
    "\n",
    "import gensim\n",
    "from gensim.models import Word2Vec \n",
    "from gensim.models import word2vec\n",
    "from sklearn.decomposition import PCA\n",
    "from matplotlib import pyplot\n",
    "\n",
    "from sklearn import feature_extraction, linear_model, model_selection, preprocessing\n",
    "from sklearn.feature_extraction import DictVectorizer\n",
    "\n",
    "import re\n",
    "from nltk.corpus import stopwords\n",
    "\n",
    "from sklearn.manifold import TSNE\n",
    "%matplotlib inline\n",
    "\n",
    "from wordcloud import WordCloud\n",
    "\n",
    "#from textblob import TextBlob\n",
    "\n",
    "\n",
    "from sklearn.feature_extraction.text import TfidfVectorizer\n",
    "from sklearn.feature_extraction.text import TfidfTransformer\n",
    "from sklearn.feature_extraction.text import CountVectorizer\n",
    "\n"
   ]
  },
  {
   "cell_type": "markdown",
   "metadata": {},
   "source": [
    "## Initial data exploration and cleaning"
   ]
  },
  {
   "cell_type": "markdown",
   "metadata": {},
   "source": [
    "#### Load data and take a look at what the data looks like"
   ]
  },
  {
   "cell_type": "code",
   "execution_count": 196,
   "metadata": {},
   "outputs": [],
   "source": [
    "train = pd.read_csv('train.csv')\n",
    "test = pd.read_csv('test.csv')"
   ]
  },
  {
   "cell_type": "code",
   "execution_count": 197,
   "metadata": {},
   "outputs": [
    {
     "data": {
      "text/html": [
       "<div>\n",
       "<style scoped>\n",
       "    .dataframe tbody tr th:only-of-type {\n",
       "        vertical-align: middle;\n",
       "    }\n",
       "\n",
       "    .dataframe tbody tr th {\n",
       "        vertical-align: top;\n",
       "    }\n",
       "\n",
       "    .dataframe thead th {\n",
       "        text-align: right;\n",
       "    }\n",
       "</style>\n",
       "<table border=\"1\" class=\"dataframe\">\n",
       "  <thead>\n",
       "    <tr style=\"text-align: right;\">\n",
       "      <th></th>\n",
       "      <th>id</th>\n",
       "      <th>keyword</th>\n",
       "      <th>location</th>\n",
       "      <th>text</th>\n",
       "      <th>target</th>\n",
       "    </tr>\n",
       "  </thead>\n",
       "  <tbody>\n",
       "    <tr>\n",
       "      <th>0</th>\n",
       "      <td>1</td>\n",
       "      <td>NaN</td>\n",
       "      <td>NaN</td>\n",
       "      <td>Our Deeds are the Reason of this #earthquake M...</td>\n",
       "      <td>1</td>\n",
       "    </tr>\n",
       "    <tr>\n",
       "      <th>1</th>\n",
       "      <td>4</td>\n",
       "      <td>NaN</td>\n",
       "      <td>NaN</td>\n",
       "      <td>Forest fire near La Ronge Sask. Canada</td>\n",
       "      <td>1</td>\n",
       "    </tr>\n",
       "    <tr>\n",
       "      <th>2</th>\n",
       "      <td>5</td>\n",
       "      <td>NaN</td>\n",
       "      <td>NaN</td>\n",
       "      <td>All residents asked to 'shelter in place' are ...</td>\n",
       "      <td>1</td>\n",
       "    </tr>\n",
       "    <tr>\n",
       "      <th>3</th>\n",
       "      <td>6</td>\n",
       "      <td>NaN</td>\n",
       "      <td>NaN</td>\n",
       "      <td>13,000 people receive #wildfires evacuation or...</td>\n",
       "      <td>1</td>\n",
       "    </tr>\n",
       "    <tr>\n",
       "      <th>4</th>\n",
       "      <td>7</td>\n",
       "      <td>NaN</td>\n",
       "      <td>NaN</td>\n",
       "      <td>Just got sent this photo from Ruby #Alaska as ...</td>\n",
       "      <td>1</td>\n",
       "    </tr>\n",
       "    <tr>\n",
       "      <th>5</th>\n",
       "      <td>8</td>\n",
       "      <td>NaN</td>\n",
       "      <td>NaN</td>\n",
       "      <td>#RockyFire Update =&gt; California Hwy. 20 closed...</td>\n",
       "      <td>1</td>\n",
       "    </tr>\n",
       "    <tr>\n",
       "      <th>6</th>\n",
       "      <td>10</td>\n",
       "      <td>NaN</td>\n",
       "      <td>NaN</td>\n",
       "      <td>#flood #disaster Heavy rain causes flash flood...</td>\n",
       "      <td>1</td>\n",
       "    </tr>\n",
       "    <tr>\n",
       "      <th>7</th>\n",
       "      <td>13</td>\n",
       "      <td>NaN</td>\n",
       "      <td>NaN</td>\n",
       "      <td>I'm on top of the hill and I can see a fire in...</td>\n",
       "      <td>1</td>\n",
       "    </tr>\n",
       "    <tr>\n",
       "      <th>8</th>\n",
       "      <td>14</td>\n",
       "      <td>NaN</td>\n",
       "      <td>NaN</td>\n",
       "      <td>There's an emergency evacuation happening now ...</td>\n",
       "      <td>1</td>\n",
       "    </tr>\n",
       "    <tr>\n",
       "      <th>9</th>\n",
       "      <td>15</td>\n",
       "      <td>NaN</td>\n",
       "      <td>NaN</td>\n",
       "      <td>I'm afraid that the tornado is coming to our a...</td>\n",
       "      <td>1</td>\n",
       "    </tr>\n",
       "  </tbody>\n",
       "</table>\n",
       "</div>"
      ],
      "text/plain": [
       "   id keyword location                                               text  \\\n",
       "0   1     NaN      NaN  Our Deeds are the Reason of this #earthquake M...   \n",
       "1   4     NaN      NaN             Forest fire near La Ronge Sask. Canada   \n",
       "2   5     NaN      NaN  All residents asked to 'shelter in place' are ...   \n",
       "3   6     NaN      NaN  13,000 people receive #wildfires evacuation or...   \n",
       "4   7     NaN      NaN  Just got sent this photo from Ruby #Alaska as ...   \n",
       "5   8     NaN      NaN  #RockyFire Update => California Hwy. 20 closed...   \n",
       "6  10     NaN      NaN  #flood #disaster Heavy rain causes flash flood...   \n",
       "7  13     NaN      NaN  I'm on top of the hill and I can see a fire in...   \n",
       "8  14     NaN      NaN  There's an emergency evacuation happening now ...   \n",
       "9  15     NaN      NaN  I'm afraid that the tornado is coming to our a...   \n",
       "\n",
       "   target  \n",
       "0       1  \n",
       "1       1  \n",
       "2       1  \n",
       "3       1  \n",
       "4       1  \n",
       "5       1  \n",
       "6       1  \n",
       "7       1  \n",
       "8       1  \n",
       "9       1  "
      ]
     },
     "execution_count": 197,
     "metadata": {},
     "output_type": "execute_result"
    }
   ],
   "source": [
    "train.head(10)"
   ]
  },
  {
   "cell_type": "code",
   "execution_count": 198,
   "metadata": {},
   "outputs": [
    {
     "data": {
      "text/html": [
       "<div>\n",
       "<style scoped>\n",
       "    .dataframe tbody tr th:only-of-type {\n",
       "        vertical-align: middle;\n",
       "    }\n",
       "\n",
       "    .dataframe tbody tr th {\n",
       "        vertical-align: top;\n",
       "    }\n",
       "\n",
       "    .dataframe thead th {\n",
       "        text-align: right;\n",
       "    }\n",
       "</style>\n",
       "<table border=\"1\" class=\"dataframe\">\n",
       "  <thead>\n",
       "    <tr style=\"text-align: right;\">\n",
       "      <th></th>\n",
       "      <th>id</th>\n",
       "      <th>keyword</th>\n",
       "      <th>location</th>\n",
       "      <th>text</th>\n",
       "    </tr>\n",
       "  </thead>\n",
       "  <tbody>\n",
       "    <tr>\n",
       "      <th>0</th>\n",
       "      <td>0</td>\n",
       "      <td>NaN</td>\n",
       "      <td>NaN</td>\n",
       "      <td>Just happened a terrible car crash</td>\n",
       "    </tr>\n",
       "    <tr>\n",
       "      <th>1</th>\n",
       "      <td>2</td>\n",
       "      <td>NaN</td>\n",
       "      <td>NaN</td>\n",
       "      <td>Heard about #earthquake is different cities, s...</td>\n",
       "    </tr>\n",
       "    <tr>\n",
       "      <th>2</th>\n",
       "      <td>3</td>\n",
       "      <td>NaN</td>\n",
       "      <td>NaN</td>\n",
       "      <td>there is a forest fire at spot pond, geese are...</td>\n",
       "    </tr>\n",
       "    <tr>\n",
       "      <th>3</th>\n",
       "      <td>9</td>\n",
       "      <td>NaN</td>\n",
       "      <td>NaN</td>\n",
       "      <td>Apocalypse lighting. #Spokane #wildfires</td>\n",
       "    </tr>\n",
       "    <tr>\n",
       "      <th>4</th>\n",
       "      <td>11</td>\n",
       "      <td>NaN</td>\n",
       "      <td>NaN</td>\n",
       "      <td>Typhoon Soudelor kills 28 in China and Taiwan</td>\n",
       "    </tr>\n",
       "  </tbody>\n",
       "</table>\n",
       "</div>"
      ],
      "text/plain": [
       "   id keyword location                                               text\n",
       "0   0     NaN      NaN                 Just happened a terrible car crash\n",
       "1   2     NaN      NaN  Heard about #earthquake is different cities, s...\n",
       "2   3     NaN      NaN  there is a forest fire at spot pond, geese are...\n",
       "3   9     NaN      NaN           Apocalypse lighting. #Spokane #wildfires\n",
       "4  11     NaN      NaN      Typhoon Soudelor kills 28 in China and Taiwan"
      ]
     },
     "execution_count": 198,
     "metadata": {},
     "output_type": "execute_result"
    }
   ],
   "source": [
    "test.head()"
   ]
  },
  {
   "cell_type": "markdown",
   "metadata": {},
   "source": [
    "#### Evaluate nulls"
   ]
  },
  {
   "cell_type": "markdown",
   "metadata": {},
   "source": [
    "It looks like keyword and location both have many nulls. Keyword might not be relevant anyways becuase we'll vectorize the data anyways. Location may have too many nulls to helpful, additionally, the text shows mentions of locations that are not showing up in the location column (e.g. train record id 4 says La Ronge Sask Canada, but location is null)"
   ]
  },
  {
   "cell_type": "code",
   "execution_count": 199,
   "metadata": {},
   "outputs": [
    {
     "name": "stdout",
     "output_type": "stream",
     "text": [
      "<class 'pandas.core.frame.DataFrame'>\n",
      "RangeIndex: 7613 entries, 0 to 7612\n",
      "Data columns (total 5 columns):\n",
      "id          7613 non-null int64\n",
      "keyword     7552 non-null object\n",
      "location    5080 non-null object\n",
      "text        7613 non-null object\n",
      "target      7613 non-null int64\n",
      "dtypes: int64(2), object(3)\n",
      "memory usage: 297.5+ KB\n"
     ]
    }
   ],
   "source": [
    "train.info()"
   ]
  },
  {
   "cell_type": "code",
   "execution_count": 200,
   "metadata": {},
   "outputs": [
    {
     "name": "stdout",
     "output_type": "stream",
     "text": [
      "<class 'pandas.core.frame.DataFrame'>\n",
      "RangeIndex: 3263 entries, 0 to 3262\n",
      "Data columns (total 4 columns):\n",
      "id          3263 non-null int64\n",
      "keyword     3237 non-null object\n",
      "location    2158 non-null object\n",
      "text        3263 non-null object\n",
      "dtypes: int64(1), object(3)\n",
      "memory usage: 102.0+ KB\n"
     ]
    }
   ],
   "source": [
    "test.info()"
   ]
  },
  {
   "cell_type": "markdown",
   "metadata": {},
   "source": [
    "#### Evaluate skews in target variable"
   ]
  },
  {
   "cell_type": "markdown",
   "metadata": {},
   "source": [
    "Data is slightly skewed but I think this should be okay without balancing"
   ]
  },
  {
   "cell_type": "code",
   "execution_count": 201,
   "metadata": {},
   "outputs": [
    {
     "data": {
      "text/plain": [
       "<matplotlib.axes._subplots.AxesSubplot at 0x1a2b00f160>"
      ]
     },
     "execution_count": 201,
     "metadata": {},
     "output_type": "execute_result"
    },
    {
     "data": {
      "image/png": "[encoded data removed]",
      "text/plain": [
       "<Figure size 432x288 with 1 Axes>"
      ]
     },
     "metadata": {
      "needs_background": "light"
     },
     "output_type": "display_data"
    }
   ],
   "source": [
    "pd.value_counts(train['target']).plot.bar()"
   ]
  },
  {
   "cell_type": "markdown",
   "metadata": {},
   "source": [
    "#### Clean text data"
   ]
  },
  {
   "cell_type": "code",
   "execution_count": 202,
   "metadata": {},
   "outputs": [],
   "source": [
    "######for train data######\n",
    "#lowercase\n",
    "train['text'] = train['text'].apply(lambda x: \" \".join(x.lower() for x in x.split()))\n",
    "#remove punctuation, special characters, keep # \n",
    "train['text'] = train['text'].str.replace('[^\\w\\s]','')\n",
    "#remove stopwords\n",
    "stop = stopwords.words('english')\n",
    "train['text'] = train['text'].apply(lambda x: \" \".join(x for x in x.split() if x not in stop))\n",
    "\n",
    "#fix spelling mistakes; commenting this out as it's taking a very long time to load complete\n",
    "#train['text']=train['text'].apply(lambda x: str(TextBlob(x).correct()))\n",
    "\n",
    "#lemmatization\n",
    "from textblob import Word\n",
    "train['text'] = train['text'].apply(lambda x: \" \".join([Word(word).lemmatize() for word in x.split()]))\n",
    "\n",
    "\n",
    "train.head(15)\n",
    "\n",
    "######for test data######\n",
    "#lowercase\n",
    "test['text'] = test['text'].apply(lambda x: \" \".join(x.lower() for x in x.split()))\n",
    "#remove punctuation, special characters, keep # \n",
    "test['text'] = test['text'].str.replace('[^\\w\\s]','')\n",
    "#remove stopwords\n",
    "stop = stopwords.words('english')\n",
    "test['text'] = test['text'].apply(lambda x: \" \".join(x for x in x.split() if x not in stop))\n",
    "\n",
    "#fix spelling mistakes; commenting this out as it's taking a very long time to load complete\n",
    "#train['text']=train['text'].apply(lambda x: str(TextBlob(x).correct()))\n",
    "\n",
    "#lemmatization\n",
    "from textblob import Word\n",
    "test['text'] = test['text'].apply(lambda x: \" \".join([Word(word).lemmatize() for word in x.split()]))"
   ]
  },
  {
   "cell_type": "markdown",
   "metadata": {},
   "source": [
    "Diving into numbers\n",
    "In come cases (e.g. train id 16, the text version of the number is used). I'd like to set the values to be all numbers for consistency."
   ]
  },
  {
   "cell_type": "code",
   "execution_count": 203,
   "metadata": {},
   "outputs": [],
   "source": [
    "def text2int (textnum, numwords={}):\n",
    "    if not numwords:\n",
    "        units = [\n",
    "        \"zero\", \"one\", \"two\", \"three\", \"four\", \"five\", \"six\", \"seven\", \"eight\",\n",
    "        \"nine\", \"ten\", \"eleven\", \"twelve\", \"thirteen\", \"fourteen\", \"fifteen\",\n",
    "        \"sixteen\", \"seventeen\", \"eighteen\", \"nineteen\",\n",
    "        ]\n",
    "\n",
    "        tens = [\"\", \"\", \"twenty\", \"thirty\", \"forty\", \"fifty\", \"sixty\", \"seventy\", \"eighty\", \"ninety\"]\n",
    "\n",
    "        scales = [\"hundred\", \"thousand\", \"million\", \"billion\", \"trillion\"]\n",
    "\n",
    "        numwords[\"and\"] = (1, 0)\n",
    "        for idx, word in enumerate(units):  numwords[word] = (1, idx)\n",
    "        for idx, word in enumerate(tens):       numwords[word] = (1, idx * 10)\n",
    "        for idx, word in enumerate(scales): numwords[word] = (10 ** (idx * 3 or 2), 0)\n",
    "\n",
    "    ordinal_words = {'first':1, 'second':2, 'third':3, 'fifth':5, 'eighth':8, 'ninth':9, 'twelfth':12}\n",
    "    ordinal_endings = [('ieth', 'y'), ('th', '')]\n",
    "\n",
    "    textnum = textnum.replace('-', ' ')\n",
    "\n",
    "    current = result = 0\n",
    "    curstring = \"\"\n",
    "    onnumber = False\n",
    "    for word in textnum.split():\n",
    "        if word in ordinal_words:\n",
    "            scale, increment = (1, ordinal_words[word])\n",
    "            current = current * scale + increment\n",
    "            if scale > 100:\n",
    "                result += current\n",
    "                current = 0\n",
    "            onnumber = True\n",
    "        else:\n",
    "            for ending, replacement in ordinal_endings:\n",
    "                if word.endswith(ending):\n",
    "                    word = \"%s%s\" % (word[:-len(ending)], replacement)\n",
    "\n",
    "            if word not in numwords:\n",
    "                if onnumber:\n",
    "                    curstring += repr(result + current) + \" \"\n",
    "                curstring += word + \" \"\n",
    "                result = current = 0\n",
    "                onnumber = False\n",
    "            else:\n",
    "                scale, increment = numwords[word]\n",
    "\n",
    "                current = current * scale + increment\n",
    "                if scale > 100:\n",
    "                    result += current\n",
    "                    current = 0\n",
    "                onnumber = True\n",
    "\n",
    "    if onnumber:\n",
    "        curstring += repr(result + current)\n",
    "\n",
    "    return curstring"
   ]
  },
  {
   "cell_type": "code",
   "execution_count": 204,
   "metadata": {},
   "outputs": [],
   "source": [
    "######for train data######\n",
    "train['text'] = train['text'].apply(lambda x: text2int(x))\n",
    "train.head(15)\n",
    "\n",
    "######for test data######\n",
    "test['text'] = test['text'].apply(lambda x: text2int(x))"
   ]
  },
  {
   "cell_type": "markdown",
   "metadata": {},
   "source": [
    "#### Visualize the data"
   ]
  },
  {
   "cell_type": "markdown",
   "metadata": {},
   "source": [
    "Visualize t-SNE representations and word clouds of the most common words. \n",
    "I'll create a separate visualization for target = 1 and target = 0 in the training data, and just one for the test data."
   ]
  },
  {
   "cell_type": "code",
   "execution_count": 205,
   "metadata": {},
   "outputs": [],
   "source": [
    "def build_corpus(data):\n",
    "    \"Creates a list of lists containing words from each sentence\"\n",
    "    corpus = []\n",
    "    for col in ['text']:\n",
    "        for sentence in data[col].iteritems():\n",
    "            word_list = sentence[1].split(\" \")\n",
    "            corpus.append(word_list)\n",
    "            \n",
    "    return corpus\n"
   ]
  },
  {
   "cell_type": "code",
   "execution_count": 206,
   "metadata": {},
   "outputs": [],
   "source": [
    "corpus_train_1 = build_corpus(train[(train['target']==1) & (test['text'])])   \n",
    "corpus_train_0 = build_corpus(train[(train['target']==0) & (test['text'])])   \n",
    "#corpus_test = build_corpus(test['text'])\n",
    "corpus_test = build_corpus(test)"
   ]
  },
  {
   "cell_type": "code",
   "execution_count": 207,
   "metadata": {},
   "outputs": [],
   "source": [
    "#word2vec to produce a vocabulary, with each word being represented by an n-dimensional numpy array\n",
    "model_train_1 = word2vec.Word2Vec(corpus_train_1, size=100, window=20, min_count=75, workers=4)\n",
    "model_train_0 = word2vec.Word2Vec(corpus_train_0, size=100, window=20, min_count=75, workers=4)\n",
    "model_test = word2vec.Word2Vec(corpus_test, size=100, window=20, min_count=75, workers=4)"
   ]
  },
  {
   "cell_type": "code",
   "execution_count": 208,
   "metadata": {},
   "outputs": [],
   "source": [
    "def tsne_plot(model):\n",
    "    \"Creates and TSNE model and plots it\"\n",
    "    labels = []\n",
    "    tokens = []\n",
    "\n",
    "    for word in model.wv.vocab:\n",
    "        tokens.append(model[word])\n",
    "        labels.append(word)\n",
    "    \n",
    "    tsne_model = TSNE(perplexity=40, n_components=2, init='pca', n_iter=2500, random_state=23)\n",
    "    new_values = tsne_model.fit_transform(tokens)\n",
    "\n",
    "    x = []\n",
    "    y = []\n",
    "    for value in new_values:\n",
    "        x.append(value[0])\n",
    "        y.append(value[1])\n",
    "        \n",
    "    plt.figure(figsize=(5, 5)) \n",
    "    for i in range(len(x)):\n",
    "        plt.scatter(x[i],y[i])\n",
    "        plt.annotate(labels[i],\n",
    "                     xy=(x[i], y[i]),\n",
    "                     xytext=(5, 2),\n",
    "                     textcoords='offset points',\n",
    "                     ha='right',\n",
    "                     va='bottom')\n",
    "    plt.show()"
   ]
  },
  {
   "cell_type": "code",
   "execution_count": 209,
   "metadata": {},
   "outputs": [
    {
     "name": "stderr",
     "output_type": "stream",
     "text": [
      "/Users/khristine/anaconda3/lib/python3.7/site-packages/ipykernel_launcher.py:7: DeprecationWarning: Call to deprecated `__getitem__` (Method will be removed in 4.0.0, use self.wv.__getitem__() instead).\n",
      "  import sys\n"
     ]
    },
    {
     "data": {
      "image/png": "[encoded data removed]",
      "text/plain": [
       "<Figure size 360x360 with 1 Axes>"
      ]
     },
     "metadata": {
      "needs_background": "light"
     },
     "output_type": "display_data"
    }
   ],
   "source": [
    "tsne_plot(model_train_1)"
   ]
  },
  {
   "cell_type": "code",
   "execution_count": 210,
   "metadata": {},
   "outputs": [
    {
     "name": "stderr",
     "output_type": "stream",
     "text": [
      "/Users/khristine/anaconda3/lib/python3.7/site-packages/ipykernel_launcher.py:7: DeprecationWarning: Call to deprecated `__getitem__` (Method will be removed in 4.0.0, use self.wv.__getitem__() instead).\n",
      "  import sys\n"
     ]
    },
    {
     "data": {
      "image/png": "[encoded data removed]",
      "text/plain": [
       "<Figure size 360x360 with 1 Axes>"
      ]
     },
     "metadata": {
      "needs_background": "light"
     },
     "output_type": "display_data"
    }
   ],
   "source": [
    "tsne_plot(model_train_0)"
   ]
  },
  {
   "cell_type": "code",
   "execution_count": 211,
   "metadata": {},
   "outputs": [
    {
     "name": "stderr",
     "output_type": "stream",
     "text": [
      "/Users/khristine/anaconda3/lib/python3.7/site-packages/ipykernel_launcher.py:7: DeprecationWarning: Call to deprecated `__getitem__` (Method will be removed in 4.0.0, use self.wv.__getitem__() instead).\n",
      "  import sys\n"
     ]
    },
    {
     "data": {
      "image/png": "[encoded data removed]",
      "text/plain": [
       "<Figure size 360x360 with 1 Axes>"
      ]
     },
     "metadata": {
      "needs_background": "light"
     },
     "output_type": "display_data"
    }
   ],
   "source": [
    "tsne_plot(model_test)"
   ]
  },
  {
   "cell_type": "markdown",
   "metadata": {},
   "source": [
    "## Modelling the data "
   ]
  },
  {
   "cell_type": "markdown",
   "metadata": {},
   "source": [
    "Vectorize text data"
   ]
  },
  {
   "cell_type": "code",
   "execution_count": 212,
   "metadata": {},
   "outputs": [],
   "source": [
    "count_vectorizer = feature_extraction.text.CountVectorizer()\n",
    "train_vectors = count_vectorizer.fit_transform(train[\"text\"])"
   ]
  },
  {
   "cell_type": "markdown",
   "metadata": {},
   "source": [
    "Run ML models on vectorized text data"
   ]
  },
  {
   "cell_type": "code",
   "execution_count": 213,
   "metadata": {},
   "outputs": [],
   "source": [
    "y=train['target']\n",
    "x=train_vectors\n",
    "(x_train, x_test, y_train, y_test) = cv.train_test_split(x, y, test_size=0.2)\n",
    "SEED=1"
   ]
  },
  {
   "cell_type": "code",
   "execution_count": 214,
   "metadata": {},
   "outputs": [
    {
     "name": "stdout",
     "output_type": "stream",
     "text": [
      "Test set accuracy: 0.58\n",
      "Accuracy: -0.58 (+/- 0.01)\n",
      "[-0.57471264 -0.58456486 -0.57635468 -0.57635468 -0.57881773]\n",
      "[[882   0]\n",
      " [633   8]]\n",
      "              precision    recall  f1-score   support\n",
      "\n",
      "           0       0.58      1.00      0.74       882\n",
      "           1       1.00      0.01      0.02       641\n",
      "\n",
      "    accuracy                           0.58      1523\n",
      "   macro avg       0.79      0.51      0.38      1523\n",
      "weighted avg       0.76      0.58      0.44      1523\n",
      "\n"
     ]
    }
   ],
   "source": [
    "#Decision Tree\n",
    "\n",
    "from sklearn.tree import DecisionTreeClassifier\n",
    "\n",
    "# Instantiate a DecisionTreeClassifier 'dt' with a maximum depth of 6\n",
    "dt = DecisionTreeClassifier(max_depth=1, random_state=1)\n",
    "#dt = DecisionTreeClassifier(random_state = 40)\n",
    "# Fit dt to the training set\n",
    "dt.fit(x_train, y_train)\n",
    "\n",
    "# Predict test set labels\n",
    "#y_pred = dt.predict(x_test)\n",
    "\n",
    "\n",
    "# Import accuracy_score\n",
    "\n",
    "\n",
    "# Predict test set labels\n",
    "y_pred = dt.predict(x_test)\n",
    "\n",
    "# Compute test set accuracy  \n",
    "acc = accuracy_score(y_test, y_pred)\n",
    "print(\"Test set accuracy: {:.2f}\".format(acc))\n",
    "\n",
    "\n",
    "from sklearn.model_selection import cross_val_score\n",
    "\n",
    "\n",
    "# Compute the array containing the 10-folds CV MSEs\n",
    "acc_CV_scores = - cross_val_score(dt, x_train, y_train, cv=5, \n",
    "                                  scoring='accuracy', \n",
    "                                  n_jobs=-1) \n",
    "print(\"Accuracy: %0.2f (+/- %0.2f)\" % (acc_CV_scores.mean(), acc_CV_scores.std() * 2))\n",
    "print(acc_CV_scores)\n",
    "\n",
    "print(confusion_matrix(y_test,y_pred))\n",
    "print(classification_report(y_test,y_pred))"
   ]
  },
  {
   "cell_type": "code",
   "execution_count": 215,
   "metadata": {},
   "outputs": [
    {
     "name": "stderr",
     "output_type": "stream",
     "text": [
      "/Users/khristine/anaconda3/lib/python3.7/site-packages/sklearn/svm/base.py:193: FutureWarning: The default value of gamma will change from 'auto' to 'scale' in version 0.22 to account better for unscaled features. Set gamma explicitly to 'auto' or 'scale' to avoid this warning.\n",
      "  \"avoid this warning.\", FutureWarning)\n"
     ]
    },
    {
     "name": "stdout",
     "output_type": "stream",
     "text": [
      "Test set accuracy: 0.58\n",
      "Accuracy: -0.57 (+/- 0.00)\n",
      "[-0.5681445 -0.5681445 -0.5681445 -0.5681445 -0.5681445 -0.5681445\n",
      " -0.5681445 -0.5681445 -0.5681445 -0.5681445]\n",
      "[[882   0]\n",
      " [641   0]]\n",
      "              precision    recall  f1-score   support\n",
      "\n",
      "           0       0.58      1.00      0.73       882\n",
      "           1       0.00      0.00      0.00       641\n",
      "\n",
      "    accuracy                           0.58      1523\n",
      "   macro avg       0.29      0.50      0.37      1523\n",
      "weighted avg       0.34      0.58      0.42      1523\n",
      "\n"
     ]
    },
    {
     "name": "stderr",
     "output_type": "stream",
     "text": [
      "/Users/khristine/anaconda3/lib/python3.7/site-packages/sklearn/metrics/classification.py:1437: UndefinedMetricWarning: Precision and F-score are ill-defined and being set to 0.0 in labels with no predicted samples.\n",
      "  'precision', 'predicted', average, warn_for)\n"
     ]
    }
   ],
   "source": [
    "#SVM\n",
    "\n",
    "from sklearn.svm import SVC\n",
    "\n",
    "svm = SVC(C=0.5, kernel='rbf')\n",
    "svm.fit(x_train, y_train)\n",
    "\n",
    "# Import accuracy_score\n",
    "from sklearn.metrics import accuracy_score\n",
    "\n",
    "# Predict test set labels\n",
    "y_pred = svm.predict(x_test)\n",
    "\n",
    "# Compute test set accuracy  \n",
    "acc = accuracy_score(y_test, y_pred)\n",
    "print(\"Test set accuracy: {:.2f}\".format(acc))\n",
    "\n",
    "\n",
    "from sklearn.model_selection import cross_val_score\n",
    "\n",
    "\n",
    "# Compute the array containing the 10-folds CV MSEs\n",
    "acc_CV_scores = - cross_val_score(svm, x_train, y_train, cv=10, \n",
    "                                  scoring='accuracy', \n",
    "                                  n_jobs=-1) \n",
    "print(\"Accuracy: %0.2f (+/- %0.2f)\" % (acc_CV_scores.mean(), acc_CV_scores.std() * 2))\n",
    "print(acc_CV_scores)\n",
    "\n",
    "print(confusion_matrix(y_test,y_pred))\n",
    "print(classification_report(y_test,y_pred))"
   ]
  },
  {
   "cell_type": "code",
   "execution_count": 216,
   "metadata": {},
   "outputs": [
    {
     "name": "stdout",
     "output_type": "stream",
     "text": [
      "Test set accuracy: 0.81\n"
     ]
    },
    {
     "name": "stderr",
     "output_type": "stream",
     "text": [
      "/Users/khristine/anaconda3/lib/python3.7/site-packages/sklearn/linear_model/logistic.py:432: FutureWarning: Default solver will be changed to 'lbfgs' in 0.22. Specify a solver to silence this warning.\n",
      "  FutureWarning)\n"
     ]
    },
    {
     "name": "stdout",
     "output_type": "stream",
     "text": [
      "Accuracy: -0.79 (+/- 0.03)\n",
      "[-0.79146141 -0.8045977  -0.79310345 -0.79310345 -0.77339901 -0.79474548\n",
      " -0.82430213 -0.76518883 -0.79967159 -0.79474548]\n",
      "[[772 110]\n",
      " [180 461]]\n",
      "              precision    recall  f1-score   support\n",
      "\n",
      "           0       0.81      0.88      0.84       882\n",
      "           1       0.81      0.72      0.76       641\n",
      "\n",
      "    accuracy                           0.81      1523\n",
      "   macro avg       0.81      0.80      0.80      1523\n",
      "weighted avg       0.81      0.81      0.81      1523\n",
      "\n"
     ]
    }
   ],
   "source": [
    "#Logistic Regression\n",
    "\n",
    "from sklearn.linear_model import LogisticRegression\n",
    "\n",
    "lg = LogisticRegression(random_state=1)\n",
    "\n",
    "# Fit dt to the training set\n",
    "lg.fit(x_train, y_train)\n",
    "\n",
    "# Predict test set labels\n",
    "#y_pred = dt.predict(x_test)\n",
    "\n",
    "# Import accuracy_score\n",
    "from sklearn.metrics import accuracy_score\n",
    "\n",
    "# Predict test set labels\n",
    "y_pred = lg.predict(x_test)\n",
    "\n",
    "# Compute test set accuracy  \n",
    "acc = accuracy_score(y_test, y_pred)\n",
    "print(\"Test set accuracy: {:.2f}\".format(acc))\n",
    "\n",
    "from sklearn.model_selection import cross_val_score\n",
    "\n",
    "\n",
    "# Compute the array containing the 10-folds CV MSEs\n",
    "acc_CV_scores = - cross_val_score(lg, x_train, y_train, cv=10, \n",
    "                                  scoring='accuracy', \n",
    "                                  n_jobs=-1) \n",
    "print(\"Accuracy: %0.2f (+/- %0.2f)\" % (acc_CV_scores.mean(), acc_CV_scores.std() * 2))\n",
    "print(acc_CV_scores)\n",
    "\n",
    "print(confusion_matrix(y_test,y_pred))\n",
    "print(classification_report(y_test,y_pred))"
   ]
  },
  {
   "cell_type": "code",
   "execution_count": 217,
   "metadata": {},
   "outputs": [
    {
     "name": "stderr",
     "output_type": "stream",
     "text": [
      "/Users/khristine/anaconda3/lib/python3.7/site-packages/sklearn/ensemble/forest.py:245: FutureWarning: The default value of n_estimators will change from 10 in version 0.20 to 100 in 0.22.\n",
      "  \"10 in version 0.20 to 100 in 0.22.\", FutureWarning)\n"
     ]
    },
    {
     "name": "stdout",
     "output_type": "stream",
     "text": [
      "Test set accuracy: 0.78\n",
      "Accuracy: -0.76 (+/- 0.03)\n",
      "[-0.78325123 -0.77996716 -0.75369458 -0.76190476 -0.73399015 -0.77504105\n",
      " -0.77339901 -0.74876847 -0.77996716 -0.75697865]\n",
      "Accuracy: -0.76 (+/- 0.03)\n",
      "[-0.78325123 -0.77996716 -0.75369458 -0.76190476 -0.73399015 -0.77504105\n",
      " -0.77339901 -0.74876847 -0.77996716 -0.75697865]\n",
      "[[792  90]\n",
      " [243 398]]\n",
      "              precision    recall  f1-score   support\n",
      "\n",
      "           0       0.77      0.90      0.83       882\n",
      "           1       0.82      0.62      0.71       641\n",
      "\n",
      "    accuracy                           0.78      1523\n",
      "   macro avg       0.79      0.76      0.77      1523\n",
      "weighted avg       0.79      0.78      0.78      1523\n",
      "\n"
     ]
    }
   ],
   "source": [
    "#Random Forest\n",
    "\n",
    "from sklearn.ensemble import RandomForestClassifier\n",
    "\n",
    "rf = RandomForestClassifier(random_state=1, min_samples_leaf=5 )\n",
    "rf.fit(x_train, y_train)\n",
    "y_pred = rf.predict(x_test)# Compute test set accuracy  \n",
    "acc = accuracy_score(y_test, y_pred)\n",
    "print(\"Test set accuracy: {:.2f}\".format(acc))\n",
    "\n",
    "from sklearn.model_selection import cross_val_score\n",
    "\n",
    "\n",
    "# Compute the array containing the 10-folds CV MSEs\n",
    "acc_CV_scores = - cross_val_score(rf, x_train, y_train, cv=10, \n",
    "                                  scoring='accuracy', \n",
    "                                  n_jobs=-1) \n",
    "print(\"Accuracy: %0.2f (+/- %0.2f)\" % (acc_CV_scores.mean(), acc_CV_scores.std() * 2))\n",
    "print(acc_CV_scores)\n",
    "\n",
    "from sklearn.model_selection import cross_val_score\n",
    "\n",
    "\n",
    "# Compute the array containing the 10-folds CV MSEs\n",
    "acc_CV_scores = - cross_val_score(rf, x_train, y_train, cv=10, \n",
    "                                  scoring='accuracy', \n",
    "                                  n_jobs=-1) \n",
    "print(\"Accuracy: %0.2f (+/- %0.2f)\" % (acc_CV_scores.mean(), acc_CV_scores.std() * 2))\n",
    "print(acc_CV_scores)\n",
    "\n",
    "\n",
    "print(confusion_matrix(y_test,y_pred))\n",
    "print(classification_report(y_test,y_pred))"
   ]
  },
  {
   "cell_type": "code",
   "execution_count": 218,
   "metadata": {},
   "outputs": [
    {
     "name": "stdout",
     "output_type": "stream",
     "text": [
      "Accuracy: -0.79 (+/- 0.03)\n",
      "[-0.76847291 -0.81116585 -0.79967159 -0.78325123 -0.79474548 -0.79802956\n",
      " -0.80131363 -0.77175698 -0.81280788 -0.80131363]\n",
      "[[792  90]\n",
      " [243 398]]\n",
      "              precision    recall  f1-score   support\n",
      "\n",
      "           0       0.77      0.90      0.83       882\n",
      "           1       0.82      0.62      0.71       641\n",
      "\n",
      "    accuracy                           0.78      1523\n",
      "   macro avg       0.79      0.76      0.77      1523\n",
      "weighted avg       0.79      0.78      0.78      1523\n",
      "\n"
     ]
    }
   ],
   "source": [
    "from sklearn.naive_bayes import MultinomialNB\n",
    "naive_bayes = MultinomialNB()\n",
    "naive_bayes.fit(x_train, y_train)\n",
    "predictions = naive_bayes.predict(x_test)\n",
    "\n",
    "# Compute the array containing the 10-folds CV MSEs\n",
    "acc_CV_scores = - cross_val_score(naive_bayes, x_train, y_train, cv=10, \n",
    "                                  scoring='accuracy', \n",
    "                                  n_jobs=-1) \n",
    "print(\"Accuracy: %0.2f (+/- %0.2f)\" % (acc_CV_scores.mean(), acc_CV_scores.std() * 2))\n",
    "print(acc_CV_scores)\n",
    "\n",
    "\n",
    "print(confusion_matrix(y_test,y_pred))\n",
    "print(classification_report(y_test,y_pred))"
   ]
  },
  {
   "cell_type": "code",
   "execution_count": 219,
   "metadata": {},
   "outputs": [
    {
     "name": "stdout",
     "output_type": "stream",
     "text": [
      "Accuracy: -0.73 (+/- 0.03)\n",
      "[-0.72249589 -0.74712644 -0.74384236 -0.71100164 -0.71756979 -0.73891626\n",
      " -0.72249589 -0.71592775 -0.73563218 -0.70279146]\n",
      "[[792  90]\n",
      " [243 398]]\n",
      "              precision    recall  f1-score   support\n",
      "\n",
      "           0       0.77      0.90      0.83       882\n",
      "           1       0.82      0.62      0.71       641\n",
      "\n",
      "    accuracy                           0.78      1523\n",
      "   macro avg       0.79      0.76      0.77      1523\n",
      "weighted avg       0.79      0.78      0.78      1523\n",
      "\n"
     ]
    }
   ],
   "source": [
    "from xgboost import XGBClassifier\n",
    "\n",
    "xg = XGBClassifier()\n",
    "xg.fit(x_train, y_train)\n",
    "predictions = naive_bayes.predict(x_test)\n",
    "\n",
    "# Compute the array containing the 10-folds CV MSEs\n",
    "acc_CV_scores = - cross_val_score(xg, x_train, y_train, cv=10, \n",
    "                                  scoring='accuracy', \n",
    "                                  n_jobs=-1) \n",
    "print(\"Accuracy: %0.2f (+/- %0.2f)\" % (acc_CV_scores.mean(), acc_CV_scores.std() * 2))\n",
    "print(acc_CV_scores)\n",
    "\n",
    "\n",
    "print(confusion_matrix(y_test,y_pred))\n",
    "print(classification_report(y_test,y_pred))"
   ]
  },
  {
   "cell_type": "code",
   "execution_count": 220,
   "metadata": {},
   "outputs": [
    {
     "name": "stderr",
     "output_type": "stream",
     "text": [
      "/Users/khristine/anaconda3/lib/python3.7/site-packages/sklearn/linear_model/logistic.py:432: FutureWarning: Default solver will be changed to 'lbfgs' in 0.22. Specify a solver to silence this warning.\n",
      "  FutureWarning)\n"
     ]
    },
    {
     "name": "stdout",
     "output_type": "stream",
     "text": [
      "Voting Classifier: 0.817\n"
     ]
    }
   ],
   "source": [
    "#Voting classifier\n",
    "from sklearn.ensemble import VotingClassifier\n",
    "from sklearn.neighbors import KNeighborsClassifier as KNN\n",
    "\n",
    "lr = LogisticRegression(random_state=SEED)\n",
    "knn = KNN()\n",
    "dt = DecisionTreeClassifier(random_state=SEED)\n",
    "rf = RandomForestClassifier(n_estimators = 100,random_state=SEED)\n",
    "naive_bayes = MultinomialNB()\n",
    "\n",
    "# Define a list called classifier that contains\n",
    "# the tuples (classifier_name, classifier)\n",
    "classifiers = [('Logistic Regression', lr),\n",
    "('K Nearest Neighbours', knn),\n",
    "('Classification Tree', dt),\n",
    "('Random Forest', rf),\n",
    "('Naive Bayes', naive_bayes)]\n",
    "\n",
    "\n",
    "vc = VotingClassifier(estimators=classifiers)\n",
    "# Fit 'vc' to the traing set\n",
    "vc.fit(x_train, y_train)\n",
    "# Predict test set labels\n",
    "y_pred = vc.predict(x_test)\n",
    "# Evaluate the test-set accuracy of 'vc'\n",
    "\n",
    "\n",
    "accuracy = accuracy_score(y_test, y_pred)\n",
    "print('Voting Classifier: {:.3f}'.format(accuracy))\n",
    "\n"
   ]
  },
  {
   "cell_type": "code",
   "execution_count": 221,
   "metadata": {},
   "outputs": [
    {
     "name": "stdout",
     "output_type": "stream",
     "text": [
      "Logistic Regression : 0.810\n"
     ]
    },
    {
     "name": "stderr",
     "output_type": "stream",
     "text": [
      "/Users/khristine/anaconda3/lib/python3.7/site-packages/sklearn/linear_model/logistic.py:432: FutureWarning: Default solver will be changed to 'lbfgs' in 0.22. Specify a solver to silence this warning.\n",
      "  FutureWarning)\n"
     ]
    },
    {
     "name": "stdout",
     "output_type": "stream",
     "text": [
      "K Nearest Neighbours : 0.679\n",
      "Classification Tree : 0.773\n",
      "Random Forest : 0.808\n",
      "Naive Bayes : 0.800\n"
     ]
    }
   ],
   "source": [
    "# Import accuracy_score\n",
    "from sklearn.metrics import accuracy_score\n",
    "for clf_name, clf in classifiers:    \n",
    "  \n",
    "    # Fit clf to the training set\n",
    "    clf.fit(x_train, y_train)    \n",
    "  \n",
    "    # Predict y_pred\n",
    "    y_pred = clf.predict(x_test)\n",
    "    \n",
    "    # Calculate accuracy\n",
    "    accuracy = accuracy_score(y_test, y_pred)\n",
    "  \n",
    "    # Evaluate clf's accuracy on the test set\n",
    "    print('{:s} : {:.3f}'.format(clf_name, accuracy))"
   ]
  },
  {
   "cell_type": "code",
   "execution_count": 222,
   "metadata": {},
   "outputs": [
    {
     "name": "stdout",
     "output_type": "stream",
     "text": [
      "Accuracy: -0.79 (+/- 0.03)\n",
      "[-0.78817734 -0.81444992 -0.79146141 -0.80295567 -0.77339901 -0.80623974\n",
      " -0.80295567 -0.76847291 -0.79474548 -0.80295567]\n",
      "[[738 144]\n",
      " [161 480]]\n",
      "              precision    recall  f1-score   support\n",
      "\n",
      "           0       0.82      0.84      0.83       882\n",
      "           1       0.77      0.75      0.76       641\n",
      "\n",
      "    accuracy                           0.80      1523\n",
      "   macro avg       0.80      0.79      0.79      1523\n",
      "weighted avg       0.80      0.80      0.80      1523\n",
      "\n"
     ]
    }
   ],
   "source": [
    "from sklearn.model_selection import cross_val_score\n",
    "\n",
    "\n",
    "# Compute the array containing the 10-folds CV MSEs\n",
    "acc_CV_scores = - cross_val_score(vc, x_train, y_train, cv=10, \n",
    "                                  scoring='accuracy', \n",
    "                                  n_jobs=-1) \n",
    "print(\"Accuracy: %0.2f (+/- %0.2f)\" % (acc_CV_scores.mean(), acc_CV_scores.std() * 2))\n",
    "print(acc_CV_scores)\n",
    "\n",
    "print(confusion_matrix(y_test,y_pred))\n",
    "print(classification_report(y_test,y_pred))"
   ]
  },
  {
   "cell_type": "markdown",
   "metadata": {},
   "source": [
    "Looks like NB, voting classifier are performing the best."
   ]
  },
  {
   "cell_type": "markdown",
   "metadata": {},
   "source": [
    "## Trying the same thing but with TFIDF"
   ]
  },
  {
   "cell_type": "code",
   "execution_count": 223,
   "metadata": {},
   "outputs": [],
   "source": [
    "import pandas as pd\n",
    " \n",
    "from sklearn.feature_extraction.text import TfidfTransformer\n",
    "from sklearn.feature_extraction.text import CountVectorizer\n",
    " \n",
    "#instantiate CountVectorizer()\n",
    "countvec=CountVectorizer()\n",
    " \n",
    "# this steps generates word counts for the words in your docs\n",
    "word_count_vector=countvec.fit_transform(train[\"text\"])"
   ]
  },
  {
   "cell_type": "code",
   "execution_count": 224,
   "metadata": {},
   "outputs": [
    {
     "data": {
      "text/plain": [
       "TfidfTransformer(norm='l2', smooth_idf=True, sublinear_tf=False, use_idf=True)"
      ]
     },
     "execution_count": 224,
     "metadata": {},
     "output_type": "execute_result"
    }
   ],
   "source": [
    "tfidf_transformer=TfidfTransformer(smooth_idf=True,use_idf=True)\n",
    "tfidf_transformer.fit(word_count_vector)"
   ]
  },
  {
   "cell_type": "code",
   "execution_count": 225,
   "metadata": {},
   "outputs": [],
   "source": [
    "# count matrix\n",
    "count_vector=countvec.transform(train[\"text\"])\n",
    " \n",
    "# tf-idf scores\n",
    "tf_idf_vector=tfidf_transformer.transform(count_vector)\n",
    " "
   ]
  },
  {
   "cell_type": "markdown",
   "metadata": {},
   "source": [
    "Run ML models on vectorized text data"
   ]
  },
  {
   "cell_type": "code",
   "execution_count": 226,
   "metadata": {},
   "outputs": [],
   "source": [
    "y=train['target']\n",
    "x=tf_idf_vector\n",
    "(x_train, x_test, y_train, y_test) = cv.train_test_split(x, y, test_size=0.2)\n",
    "SEED=1"
   ]
  },
  {
   "cell_type": "code",
   "execution_count": 227,
   "metadata": {},
   "outputs": [
    {
     "name": "stdout",
     "output_type": "stream",
     "text": [
      "Test set accuracy: 0.60\n",
      "Accuracy: -0.59 (+/- 0.01)\n",
      "[-0.57916325 -0.59277504 -0.59277504 -0.58292282 -0.57929334]\n",
      "[[859  19]\n",
      " [596  49]]\n",
      "              precision    recall  f1-score   support\n",
      "\n",
      "           0       0.59      0.98      0.74       878\n",
      "           1       0.72      0.08      0.14       645\n",
      "\n",
      "    accuracy                           0.60      1523\n",
      "   macro avg       0.66      0.53      0.44      1523\n",
      "weighted avg       0.65      0.60      0.48      1523\n",
      "\n"
     ]
    }
   ],
   "source": [
    "#Decision Tree\n",
    "\n",
    "from sklearn.tree import DecisionTreeClassifier\n",
    "\n",
    "# Instantiate a DecisionTreeClassifier 'dt' with a maximum depth of 6\n",
    "dt = DecisionTreeClassifier(max_depth=1, random_state=1)\n",
    "#dt = DecisionTreeClassifier(random_state = 40)\n",
    "# Fit dt to the training set\n",
    "dt.fit(x_train, y_train)\n",
    "\n",
    "# Predict test set labels\n",
    "#y_pred = dt.predict(x_test)\n",
    "\n",
    "\n",
    "# Import accuracy_score\n",
    "\n",
    "\n",
    "# Predict test set labels\n",
    "y_pred = dt.predict(x_test)\n",
    "\n",
    "# Compute test set accuracy  \n",
    "acc = accuracy_score(y_test, y_pred)\n",
    "print(\"Test set accuracy: {:.2f}\".format(acc))\n",
    "\n",
    "\n",
    "from sklearn.model_selection import cross_val_score\n",
    "\n",
    "\n",
    "# Compute the array containing the 10-folds CV MSEs\n",
    "acc_CV_scores = - cross_val_score(dt, x_train, y_train, cv=5, \n",
    "                                  scoring='accuracy', \n",
    "                                  n_jobs=-1) \n",
    "print(\"Accuracy: %0.2f (+/- %0.2f)\" % (acc_CV_scores.mean(), acc_CV_scores.std() * 2))\n",
    "print(acc_CV_scores)\n",
    "\n",
    "print(confusion_matrix(y_test,y_pred))\n",
    "print(classification_report(y_test,y_pred))"
   ]
  },
  {
   "cell_type": "code",
   "execution_count": 228,
   "metadata": {},
   "outputs": [
    {
     "name": "stderr",
     "output_type": "stream",
     "text": [
      "/Users/khristine/anaconda3/lib/python3.7/site-packages/sklearn/svm/base.py:193: FutureWarning: The default value of gamma will change from 'auto' to 'scale' in version 0.22 to account better for unscaled features. Set gamma explicitly to 'auto' or 'scale' to avoid this warning.\n",
      "  \"avoid this warning.\", FutureWarning)\n"
     ]
    },
    {
     "name": "stdout",
     "output_type": "stream",
     "text": [
      "Test set accuracy: 0.58\n"
     ]
    },
    {
     "name": "stderr",
     "output_type": "stream",
     "text": [
      "/Users/khristine/anaconda3/lib/python3.7/site-packages/joblib/externals/loky/process_executor.py:706: UserWarning: A worker stopped while some jobs were given to the executor. This can be caused by a too short worker timeout or by a memory leak.\n",
      "  \"timeout or by a memory leak.\", UserWarning\n"
     ]
    },
    {
     "name": "stdout",
     "output_type": "stream",
     "text": [
      "Accuracy: -0.57 (+/- 0.00)\n",
      "[-0.56885246 -0.56885246 -0.56885246 -0.56885246 -0.5681445  -0.5681445\n",
      " -0.56907895 -0.56907895 -0.56907895 -0.56907895]\n",
      "[[878   0]\n",
      " [645   0]]\n",
      "              precision    recall  f1-score   support\n",
      "\n",
      "           0       0.58      1.00      0.73       878\n",
      "           1       0.00      0.00      0.00       645\n",
      "\n",
      "    accuracy                           0.58      1523\n",
      "   macro avg       0.29      0.50      0.37      1523\n",
      "weighted avg       0.33      0.58      0.42      1523\n",
      "\n"
     ]
    },
    {
     "name": "stderr",
     "output_type": "stream",
     "text": [
      "/Users/khristine/anaconda3/lib/python3.7/site-packages/sklearn/metrics/classification.py:1437: UndefinedMetricWarning: Precision and F-score are ill-defined and being set to 0.0 in labels with no predicted samples.\n",
      "  'precision', 'predicted', average, warn_for)\n"
     ]
    }
   ],
   "source": [
    "#SVM\n",
    "\n",
    "from sklearn.svm import SVC\n",
    "\n",
    "svm = SVC(C=0.5, kernel='rbf')\n",
    "svm.fit(x_train, y_train)\n",
    "\n",
    "# Import accuracy_score\n",
    "from sklearn.metrics import accuracy_score\n",
    "\n",
    "# Predict test set labels\n",
    "y_pred = svm.predict(x_test)\n",
    "\n",
    "# Compute test set accuracy  \n",
    "acc = accuracy_score(y_test, y_pred)\n",
    "print(\"Test set accuracy: {:.2f}\".format(acc))\n",
    "\n",
    "\n",
    "from sklearn.model_selection import cross_val_score\n",
    "\n",
    "\n",
    "# Compute the array containing the 10-folds CV MSEs\n",
    "acc_CV_scores = - cross_val_score(svm, x_train, y_train, cv=10, \n",
    "                                  scoring='accuracy', \n",
    "                                  n_jobs=-1) \n",
    "print(\"Accuracy: %0.2f (+/- %0.2f)\" % (acc_CV_scores.mean(), acc_CV_scores.std() * 2))\n",
    "print(acc_CV_scores)\n",
    "\n",
    "print(confusion_matrix(y_test,y_pred))\n",
    "print(classification_report(y_test,y_pred))"
   ]
  },
  {
   "cell_type": "code",
   "execution_count": 229,
   "metadata": {},
   "outputs": [
    {
     "name": "stdout",
     "output_type": "stream",
     "text": [
      "Test set accuracy: 0.81\n",
      "Accuracy: -0.80 (+/- 0.03)\n",
      "[-0.79016393 -0.82295082 -0.80491803 -0.81311475 -0.78325123 -0.77996716\n",
      " -0.77960526 -0.78947368 -0.81085526 -0.77960526]\n",
      "[[813  65]\n",
      " [228 417]]\n",
      "              precision    recall  f1-score   support\n",
      "\n",
      "           0       0.78      0.93      0.85       878\n",
      "           1       0.87      0.65      0.74       645\n",
      "\n",
      "    accuracy                           0.81      1523\n",
      "   macro avg       0.82      0.79      0.79      1523\n",
      "weighted avg       0.82      0.81      0.80      1523\n",
      "\n"
     ]
    },
    {
     "name": "stderr",
     "output_type": "stream",
     "text": [
      "/Users/khristine/anaconda3/lib/python3.7/site-packages/sklearn/linear_model/logistic.py:432: FutureWarning: Default solver will be changed to 'lbfgs' in 0.22. Specify a solver to silence this warning.\n",
      "  FutureWarning)\n"
     ]
    }
   ],
   "source": [
    "#Logistic Regression\n",
    "\n",
    "from sklearn.linear_model import LogisticRegression\n",
    "\n",
    "lg = LogisticRegression(random_state=1)\n",
    "\n",
    "# Fit dt to the training set\n",
    "lg.fit(x_train, y_train)\n",
    "\n",
    "# Predict test set labels\n",
    "#y_pred = dt.predict(x_test)\n",
    "\n",
    "# Import accuracy_score\n",
    "from sklearn.metrics import accuracy_score\n",
    "\n",
    "# Predict test set labels\n",
    "y_pred = lg.predict(x_test)\n",
    "\n",
    "# Compute test set accuracy  \n",
    "acc = accuracy_score(y_test, y_pred)\n",
    "print(\"Test set accuracy: {:.2f}\".format(acc))\n",
    "\n",
    "from sklearn.model_selection import cross_val_score\n",
    "\n",
    "\n",
    "# Compute the array containing the 10-folds CV MSEs\n",
    "acc_CV_scores = - cross_val_score(lg, x_train, y_train, cv=10, \n",
    "                                  scoring='accuracy', \n",
    "                                  n_jobs=-1) \n",
    "print(\"Accuracy: %0.2f (+/- %0.2f)\" % (acc_CV_scores.mean(), acc_CV_scores.std() * 2))\n",
    "print(acc_CV_scores)\n",
    "\n",
    "print(confusion_matrix(y_test,y_pred))\n",
    "print(classification_report(y_test,y_pred))"
   ]
  },
  {
   "cell_type": "code",
   "execution_count": 230,
   "metadata": {},
   "outputs": [
    {
     "name": "stderr",
     "output_type": "stream",
     "text": [
      "/Users/khristine/anaconda3/lib/python3.7/site-packages/sklearn/ensemble/forest.py:245: FutureWarning: The default value of n_estimators will change from 10 in version 0.20 to 100 in 0.22.\n",
      "  \"10 in version 0.20 to 100 in 0.22.\", FutureWarning)\n"
     ]
    },
    {
     "name": "stdout",
     "output_type": "stream",
     "text": [
      "Test set accuracy: 0.78\n",
      "Accuracy: -0.76 (+/- 0.03)\n",
      "[-0.75901639 -0.77213115 -0.77540984 -0.78196721 -0.75862069 -0.76190476\n",
      " -0.74177632 -0.75328947 -0.78618421 -0.75657895]\n",
      "Accuracy: -0.76 (+/- 0.03)\n",
      "[-0.75901639 -0.77213115 -0.77540984 -0.78196721 -0.75862069 -0.76190476\n",
      " -0.74177632 -0.75328947 -0.78618421 -0.75657895]\n",
      "[[774 104]\n",
      " [228 417]]\n",
      "              precision    recall  f1-score   support\n",
      "\n",
      "           0       0.77      0.88      0.82       878\n",
      "           1       0.80      0.65      0.72       645\n",
      "\n",
      "    accuracy                           0.78      1523\n",
      "   macro avg       0.79      0.76      0.77      1523\n",
      "weighted avg       0.78      0.78      0.78      1523\n",
      "\n"
     ]
    }
   ],
   "source": [
    "#Random Forest\n",
    "\n",
    "from sklearn.ensemble import RandomForestClassifier\n",
    "\n",
    "rf = RandomForestClassifier(random_state=1, min_samples_leaf=5 )\n",
    "rf.fit(x_train, y_train)\n",
    "y_pred = rf.predict(x_test)# Compute test set accuracy  \n",
    "acc = accuracy_score(y_test, y_pred)\n",
    "print(\"Test set accuracy: {:.2f}\".format(acc))\n",
    "\n",
    "from sklearn.model_selection import cross_val_score\n",
    "\n",
    "\n",
    "# Compute the array containing the 10-folds CV MSEs\n",
    "acc_CV_scores = - cross_val_score(rf, x_train, y_train, cv=10, \n",
    "                                  scoring='accuracy', \n",
    "                                  n_jobs=-1) \n",
    "print(\"Accuracy: %0.2f (+/- %0.2f)\" % (acc_CV_scores.mean(), acc_CV_scores.std() * 2))\n",
    "print(acc_CV_scores)\n",
    "\n",
    "from sklearn.model_selection import cross_val_score\n",
    "\n",
    "\n",
    "# Compute the array containing the 10-folds CV MSEs\n",
    "acc_CV_scores = - cross_val_score(rf, x_train, y_train, cv=10, \n",
    "                                  scoring='accuracy', \n",
    "                                  n_jobs=-1) \n",
    "print(\"Accuracy: %0.2f (+/- %0.2f)\" % (acc_CV_scores.mean(), acc_CV_scores.std() * 2))\n",
    "print(acc_CV_scores)\n",
    "\n",
    "\n",
    "print(confusion_matrix(y_test,y_pred))\n",
    "print(classification_report(y_test,y_pred))"
   ]
  },
  {
   "cell_type": "code",
   "execution_count": 231,
   "metadata": {},
   "outputs": [
    {
     "name": "stdout",
     "output_type": "stream",
     "text": [
      "Accuracy: -0.80 (+/- 0.03)\n",
      "[-0.80327869 -0.82622951 -0.79180328 -0.82131148 -0.77339901 -0.78489327\n",
      " -0.79440789 -0.78289474 -0.80756579 -0.80427632]\n",
      "[[774 104]\n",
      " [228 417]]\n",
      "              precision    recall  f1-score   support\n",
      "\n",
      "           0       0.77      0.88      0.82       878\n",
      "           1       0.80      0.65      0.72       645\n",
      "\n",
      "    accuracy                           0.78      1523\n",
      "   macro avg       0.79      0.76      0.77      1523\n",
      "weighted avg       0.78      0.78      0.78      1523\n",
      "\n"
     ]
    }
   ],
   "source": [
    "from sklearn.naive_bayes import MultinomialNB\n",
    "naive_bayes = MultinomialNB()\n",
    "naive_bayes.fit(x_train, y_train)\n",
    "predictions = naive_bayes.predict(x_test)\n",
    "\n",
    "# Compute the array containing the 10-folds CV MSEs\n",
    "acc_CV_scores = - cross_val_score(naive_bayes, x_train, y_train, cv=10, \n",
    "                                  scoring='accuracy', \n",
    "                                  n_jobs=-1) \n",
    "print(\"Accuracy: %0.2f (+/- %0.2f)\" % (acc_CV_scores.mean(), acc_CV_scores.std() * 2))\n",
    "print(acc_CV_scores)\n",
    "\n",
    "\n",
    "print(confusion_matrix(y_test,y_pred))\n",
    "print(classification_report(y_test,y_pred))"
   ]
  },
  {
   "cell_type": "code",
   "execution_count": 232,
   "metadata": {},
   "outputs": [
    {
     "name": "stdout",
     "output_type": "stream",
     "text": [
      "Accuracy: -0.73 (+/- 0.04)\n",
      "[-0.69180328 -0.75245902 -0.73278689 -0.75901639 -0.71756979 -0.70279146\n",
      " -0.71710526 -0.70888158 -0.75164474 -0.73190789]\n",
      "[[774 104]\n",
      " [228 417]]\n",
      "              precision    recall  f1-score   support\n",
      "\n",
      "           0       0.77      0.88      0.82       878\n",
      "           1       0.80      0.65      0.72       645\n",
      "\n",
      "    accuracy                           0.78      1523\n",
      "   macro avg       0.79      0.76      0.77      1523\n",
      "weighted avg       0.78      0.78      0.78      1523\n",
      "\n"
     ]
    }
   ],
   "source": [
    "from xgboost import XGBClassifier\n",
    "\n",
    "xg = XGBClassifier()\n",
    "xg.fit(x_train, y_train)\n",
    "predictions = naive_bayes.predict(x_test)\n",
    "\n",
    "# Compute the array containing the 10-folds CV MSEs\n",
    "acc_CV_scores = - cross_val_score(xg, x_train, y_train, cv=10, \n",
    "                                  scoring='accuracy', \n",
    "                                  n_jobs=-1) \n",
    "print(\"Accuracy: %0.2f (+/- %0.2f)\" % (acc_CV_scores.mean(), acc_CV_scores.std() * 2))\n",
    "print(acc_CV_scores)\n",
    "\n",
    "\n",
    "print(confusion_matrix(y_test,y_pred))\n",
    "print(classification_report(y_test,y_pred))"
   ]
  },
  {
   "cell_type": "code",
   "execution_count": 233,
   "metadata": {},
   "outputs": [
    {
     "name": "stderr",
     "output_type": "stream",
     "text": [
      "/Users/khristine/anaconda3/lib/python3.7/site-packages/sklearn/linear_model/logistic.py:432: FutureWarning: Default solver will be changed to 'lbfgs' in 0.22. Specify a solver to silence this warning.\n",
      "  FutureWarning)\n"
     ]
    },
    {
     "name": "stdout",
     "output_type": "stream",
     "text": [
      "Voting Classifier: 0.814\n"
     ]
    }
   ],
   "source": [
    "#Voting classifier\n",
    "from sklearn.ensemble import VotingClassifier\n",
    "from sklearn.neighbors import KNeighborsClassifier as KNN\n",
    "\n",
    "lr = LogisticRegression(random_state=SEED)\n",
    "knn = KNN()\n",
    "dt = DecisionTreeClassifier(random_state=SEED)\n",
    "rf = RandomForestClassifier(n_estimators = 100,random_state=SEED)\n",
    "naive_bayes = MultinomialNB()\n",
    "\n",
    "# Define a list called classifier that contains\n",
    "# the tuples (classifier_name, classifier)\n",
    "classifiers = [('Logistic Regression', lr),\n",
    "('K Nearest Neighbours', knn),\n",
    "('Classification Tree', dt),\n",
    "('Random Forest', rf),\n",
    "('Naive Bayes', naive_bayes)]\n",
    "\n",
    "\n",
    "vc = VotingClassifier(estimators=classifiers)\n",
    "# Fit 'vc' to the traing set\n",
    "vc.fit(x_train, y_train)\n",
    "# Predict test set labels\n",
    "y_pred = vc.predict(x_test)\n",
    "# Evaluate the test-set accuracy of 'vc'\n",
    "\n",
    "\n",
    "accuracy = accuracy_score(y_test, y_pred)\n",
    "print('Voting Classifier: {:.3f}'.format(accuracy))\n",
    "\n"
   ]
  },
  {
   "cell_type": "code",
   "execution_count": 234,
   "metadata": {},
   "outputs": [
    {
     "name": "stdout",
     "output_type": "stream",
     "text": [
      "Logistic Regression : 0.808\n"
     ]
    },
    {
     "name": "stderr",
     "output_type": "stream",
     "text": [
      "/Users/khristine/anaconda3/lib/python3.7/site-packages/sklearn/linear_model/logistic.py:432: FutureWarning: Default solver will be changed to 'lbfgs' in 0.22. Specify a solver to silence this warning.\n",
      "  FutureWarning)\n"
     ]
    },
    {
     "name": "stdout",
     "output_type": "stream",
     "text": [
      "K Nearest Neighbours : 0.776\n",
      "Classification Tree : 0.754\n",
      "Random Forest : 0.792\n",
      "Naive Bayes : 0.801\n"
     ]
    }
   ],
   "source": [
    "# Import accuracy_score\n",
    "from sklearn.metrics import accuracy_score\n",
    "for clf_name, clf in classifiers:    \n",
    "  \n",
    "    # Fit clf to the training set\n",
    "    clf.fit(x_train, y_train)    \n",
    "  \n",
    "    # Predict y_pred\n",
    "    y_pred = clf.predict(x_test)\n",
    "    \n",
    "    # Calculate accuracy\n",
    "    accuracy = accuracy_score(y_test, y_pred)\n",
    "  \n",
    "    # Evaluate clf's accuracy on the test set\n",
    "    print('{:s} : {:.3f}'.format(clf_name, accuracy))"
   ]
  },
  {
   "cell_type": "code",
   "execution_count": 235,
   "metadata": {},
   "outputs": [
    {
     "name": "stdout",
     "output_type": "stream",
     "text": [
      "Accuracy: -0.80 (+/- 0.03)\n",
      "[-0.78688525 -0.8295082  -0.8        -0.80163934 -0.78817734 -0.77504105\n",
      " -0.78453947 -0.79440789 -0.80756579 -0.78947368]\n",
      "[[811  67]\n",
      " [236 409]]\n",
      "              precision    recall  f1-score   support\n",
      "\n",
      "           0       0.77      0.92      0.84       878\n",
      "           1       0.86      0.63      0.73       645\n",
      "\n",
      "    accuracy                           0.80      1523\n",
      "   macro avg       0.82      0.78      0.79      1523\n",
      "weighted avg       0.81      0.80      0.79      1523\n",
      "\n"
     ]
    }
   ],
   "source": [
    "from sklearn.model_selection import cross_val_score\n",
    "\n",
    "\n",
    "# Compute the array containing the 10-folds CV MSEs\n",
    "acc_CV_scores = - cross_val_score(vc, x_train, y_train, cv=10, \n",
    "                                  scoring='accuracy', \n",
    "                                  n_jobs=-1) \n",
    "print(\"Accuracy: %0.2f (+/- %0.2f)\" % (acc_CV_scores.mean(), acc_CV_scores.std() * 2))\n",
    "print(acc_CV_scores)\n",
    "\n",
    "print(confusion_matrix(y_test,y_pred))\n",
    "print(classification_report(y_test,y_pred))"
   ]
  }
 ],
 "metadata": {
  "kernelspec": {
   "display_name": "Python 3",
   "language": "python",
   "name": "python3"
  },
  "language_info": {
   "codemirror_mode": {
    "name": "ipython",
    "version": 3
   },
   "file_extension": ".py",
   "mimetype": "text/x-python",
   "name": "python",
   "nbconvert_exporter": "python",
   "pygments_lexer": "ipython3",
   "version": "3.7.3"
  }
 },
 "nbformat": 4,
 "nbformat_minor": 2
}
